{
 "cells": [
  {
   "cell_type": "code",
   "execution_count": 1,
   "metadata": {},
   "outputs": [],
   "source": [
    "import ampligraph\n",
    "from ampligraph.datasets import load_from_ntriples\n",
    "from ampligraph.evaluation import train_test_split_no_unseen\n",
    "from ampligraph.latent_features import ComplEx, save_model, restore_model\n",
    "\n",
    "from rdflib import Graph, URIRef\n",
    "from rdflib.namespace import RDF, OWL\n",
    "\n",
    "import numpy as np\n",
    "np.set_printoptions(threshold=100)"
   ]
  },
  {
   "cell_type": "code",
   "execution_count": 2,
   "metadata": {},
   "outputs": [
    {
     "data": {
      "text/plain": [
       "<Graph identifier=Ne4ce4a10ee614aa2ad46cd714481fdb3 (<class 'rdflib.graph.Graph'>)>"
      ]
     },
     "execution_count": 2,
     "metadata": {},
     "output_type": "execute_result"
    }
   ],
   "source": [
    "# Import raw graph\n",
    "g = Graph()\n",
    "g.parse(\"../SWC_2019_Train.nt\", format=\"nt\")"
   ]
  },
  {
   "cell_type": "code",
   "execution_count": 3,
   "metadata": {},
   "outputs": [],
   "source": [
    "# Create a new graph with the explicit triplets\n",
    "new_g = Graph()\n",
    "statements = set()\n",
    "triplets = set()\n",
    "\n",
    "true_entities = set()\n",
    "false_entities = set()\n",
    "truth_dico = {}\n",
    "\n",
    "hasTruthValue = URIRef(\"http://swc2017.aksw.org/hasTruthValue\")\n",
    "OWLthing = URIRef(\"http://www.w3.org/2002/07/owl#Thing\")\n",
    "\n",
    "chevr = lambda s : '<' + s + '>'\n",
    "\n",
    "for i,s in enumerate(g.subjects(RDF.type, RDF.Statement)):\n",
    "    is_true = g.value(s, hasTruthValue)\n",
    "    statements.add(s)\n",
    "    \n",
    "    # Get <s> <p> <o>\n",
    "    suj = g.value(s, RDF.subject)\n",
    "    pred = g.value(s, RDF.predicate)\n",
    "    obj = g.value(s, RDF.object)\n",
    "    \n",
    "    # Save the truth of statement with a dictionnary\n",
    "    if (suj, pred, obj) not in triplets:\n",
    "        truth_dico[(chevr(str(suj)), chevr(str(pred)), chevr(str(obj)))] = float(is_true)\n",
    "        #is_true_v.append(float(is_true))\n",
    "        \n",
    "    triplets.add((suj, pred, obj))\n",
    "\n",
    "    \n",
    "    # Save entities in false and true statements\n",
    "    if float(is_true) == 1.0:\n",
    "        true_entities.add(suj)\n",
    "        true_entities.add(obj)\n",
    "    elif float(is_true) == 0.0:\n",
    "        false_entities.add(suj)\n",
    "        false_entities.add(obj)\n",
    "        \n",
    "    # Adding triplet to explicit graph\n",
    "    new_g.add((suj, pred, obj))\n",
    "    \n",
    "    # Objects and subjects are things (to remove to have just the statements)\n",
    "    #new_g.add((suj, RDF.type, OWLthing))\n",
    "    #new_g.add((obj, RDF.type, OWLthing))"
   ]
  },
  {
   "cell_type": "code",
   "execution_count": 4,
   "metadata": {},
   "outputs": [
    {
     "name": "stdout",
     "output_type": "stream",
     "text": [
      "8231 9976\n",
      "11990\n"
     ]
    }
   ],
   "source": [
    "# The entities may be different between true and false statements\n",
    "print(len(true_entities), len(false_entities))\n",
    "print(len(true_entities.union(false_entities)))"
   ]
  },
  {
   "cell_type": "code",
   "execution_count": 5,
   "metadata": {},
   "outputs": [
    {
     "name": "stdout",
     "output_type": "stream",
     "text": [
      "25000\n",
      "23928\n",
      "23928\n"
     ]
    }
   ],
   "source": [
    "# Some statements seem to be equals\n",
    "print(len(statements))\n",
    "print(len(triplets))\n",
    "print(len(new_g))"
   ]
  },
  {
   "cell_type": "code",
   "execution_count": 6,
   "metadata": {},
   "outputs": [
    {
     "name": "stdout",
     "output_type": "stream",
     "text": [
      "('<http://dice-research.org/ns/drugbank#drug-DB00144>', '<http://dice-research.org/ontology/drugbank/hasCommonProducer>', '<http://dice-research.org/ns/drugbank#drug-DB03147>')\n"
     ]
    }
   ],
   "source": [
    "# print truth dictionnary\n",
    "for k in truth_dico.keys():\n",
    "    print(k)\n",
    "    break"
   ]
  },
  {
   "cell_type": "code",
   "execution_count": 7,
   "metadata": {},
   "outputs": [
    {
     "name": "stdout",
     "output_type": "stream",
     "text": [
      "(23928, 3)\n"
     ]
    },
    {
     "name": "stderr",
     "output_type": "stream",
     "text": [
      "/home/mondeca/applications/anaconda3/envs/ampligraph/lib/python3.6/site-packages/ampligraph/datasets/datasets.py:624: FutureWarning: Method .as_matrix will be removed in a future version. Use .values instead.\n",
      "  return df.as_matrix()\n"
     ]
    }
   ],
   "source": [
    "# Load Graph with Ampligraph\n",
    "amplg = load_from_ntriples(\"/home/mondeca/Documents/ISWC_2019/AmpliGraph\", \"explicit.nt\")\n",
    "print(amplg.shape)"
   ]
  },
  {
   "cell_type": "code",
   "execution_count": 8,
   "metadata": {},
   "outputs": [],
   "source": [
    "# Get truth value of each statement from dictionnary and put in in a vector\n",
    "truth_vect = []\n",
    "for i,x in enumerate(amplg):\n",
    "    is_true = truth_dico[tuple(x)]\n",
    "    truth_vect.append(is_true)"
   ]
  },
  {
   "cell_type": "code",
   "execution_count": 9,
   "metadata": {},
   "outputs": [
    {
     "name": "stdout",
     "output_type": "stream",
     "text": [
      "(23928,)\n",
      "[['<http://dice-research.org/ns/drugbank#drug-DB06458>'\n",
      "  '<http://dice-research.org/ontology/drugbank/interactsWith>'\n",
      "  '<http://dice-research.org/ns/drugbank#drug-DB09079>' 1.0]\n",
      " ['<http://dice-research.org/ns/drugbank#drug-DB00860>'\n",
      "  '<http://dice-research.org/ontology/drugbank/hasCommonIndication>'\n",
      "  '<http://dice-research.org/ns/drugbank#drug-DB06433>' 1.0]\n",
      " ['<http://dice-research.org/ns/drugbank#drug-DB14000>'\n",
      "  '<http://dice-research.org/ontology/drugbank/hasCommonIndication>'\n",
      "  '<http://dice-research.org/ns/drugbank#drug-DB02236>' 0.0]\n",
      " ['<http://dice-research.org/ns/drugbank#drug-DB11655>'\n",
      "  '<http://dice-research.org/ontology/drugbank/hasCommonProducer>'\n",
      "  '<http://dice-research.org/ns/drugbank#drug-DB04417>' 0.0]]\n"
     ]
    }
   ],
   "source": [
    "# Combine array of statements and array of truth values\n",
    "print(np.array(truth_vect).shape)\n",
    "amplg = np.hstack((amplg, np.reshape(np.array(truth_vect), (len(triplets),1))))\n",
    "print(amplg[:4,:])"
   ]
  },
  {
   "cell_type": "code",
   "execution_count": 10,
   "metadata": {},
   "outputs": [
    {
     "name": "stdout",
     "output_type": "stream",
     "text": [
      "(18541, 4) (5982, 4)\n"
     ]
    }
   ],
   "source": [
    "# Splitting explicit graph into train/valid set\n",
    "train, test = train_test_split_no_unseen(amplg, test_size=int(0.25 * amplg.shape[0]), seed=0)\n",
    "print(train.shape, test.shape)\n",
    "\n",
    "# Save explicit statements with their binary labels\n",
    "np.save(\"allData\", amplg)\n",
    "np.save(\"training\", train)\n",
    "np.save(\"test\", test)"
   ]
  },
  {
   "cell_type": "code",
   "execution_count": 11,
   "metadata": {},
   "outputs": [],
   "source": [
    "# Split data, train and test sets into true/false subsets\n",
    "train_t = train[train[:,3] == 1.0,:]\n",
    "train_f = train[train[:,3] == 0.0,:]\n",
    "\n",
    "test_t = test[test[:,3] == 1.0,:]\n",
    "test_f = test[test[:,3] == 0.0,:]\n",
    "\n",
    "all_t = amplg[amplg[:,3] == 1.0,:]\n",
    "all_f = amplg[amplg[:,3] == 0.0,:]"
   ]
  },
  {
   "cell_type": "code",
   "execution_count": 12,
   "metadata": {},
   "outputs": [],
   "source": [
    "from ampligraph.latent_features import ComplEx, DistMult, TransE, HolE\n",
    "from ampligraph.evaluation import evaluate_performance, mrr_score, hits_at_n_score\n",
    "\n",
    "# Train an embedding model and save it\n",
    "def train_save_model(train_data, test_data, model_name, nbatches, epochs, k, eta, early_stop):\n",
    "    model = model_name(batches_count=nbatches, seed=0, epochs=epochs, k=k, eta=eta,\n",
    "                    # Use adam optimizer with learning rate 1e-3\n",
    "                    optimizer='adam', optimizer_params={'lr':1e-3},\n",
    "                    # Use pairwise loss with margin 0.5\n",
    "                    loss='pairwise', loss_params={'margin':0.5},\n",
    "                    # Use L2 regularizer with regularizer weight 1e-5\n",
    "                    regularizer='LP', regularizer_params={'p':2, 'lambda':1e-5}, \n",
    "                    # Enable stdout messages (set to false if you don't want to display)\n",
    "                    verbose=False)\n",
    "        \n",
    "    #Training\n",
    "    if early_stop == False:\n",
    "        model.fit(train_data[:,:3])\n",
    "    else:\n",
    "        model.fit(train_data[:,:3],\n",
    "                    early_stopping = True,\n",
    "                    early_stopping_params = \\\n",
    "                          {\n",
    "                              'x_valid': test_data[:,:3],       # validation set\n",
    "                              'criteria':'hits10',         # Uses hits10 criteria for early stopping\n",
    "                              'burn_in': 100,              # early stopping kicks in after 100 epochs\n",
    "                              'check_interval':2,          # validates every 20th epoch\n",
    "                              'stop_interval':5,           # stops if 5 successive validation checks are bad.\n",
    "                              'x_filter': amplg[:,:3],          # Use filter for filtering out positives \n",
    "                              'corruption_entities': \"all\", # corrupt using all entities\n",
    "                              'corrupt_side':'s+o'         # corrupt subject and object (but not at once)\n",
    "                          }\n",
    "             )\n",
    "    \n",
    "    fn = \"./model/\" + model_name.__name__ + \"_\" + str(k) +\"_\"+ str(epochs) +\"_\"+ str(eta) +\"_\"+ str(early_stop)\n",
    "    save_model(model, fn)"
   ]
  },
  {
   "cell_type": "code",
   "execution_count": null,
   "metadata": {},
   "outputs": [],
   "source": [
    "# Some good parameters : epochs = 200, k = 150, eta = 1\n",
    "train_save_model(amplg, test, TransE, nbatches=10, epochs=200, k=150, eta=1, early_stop=False)\n",
    "train_save_model(amplg, test, DistMult, nbatches=10, epochs=200, k=150, eta=1, early_stop=False)\n",
    "train_save_model(amplg, test, HolE, nbatches=10, epochs=200, k=150, eta=1, early_stop=False)\n",
    "train_save_model(amplg, test, ComplEx, nbatches=10, epochs=200, k=150, eta=1, early_stop=False)"
   ]
  },
  {
   "cell_type": "code",
   "execution_count": 13,
   "metadata": {},
   "outputs": [
    {
     "name": "stdout",
     "output_type": "stream",
     "text": [
      "\n",
      "WARNING: The TensorFlow contrib module will not be included in TensorFlow 2.0.\n",
      "For more information, please see:\n",
      "  * https://github.com/tensorflow/community/blob/master/rfcs/20180907-contrib-sunset.md\n",
      "  * https://github.com/tensorflow/addons\n",
      "If you depend on functionality not listed there, please file an issue.\n",
      "\n",
      "2019-06-05 11:07:06,587 - tensorflow - WARNING - From /home/mondeca/applications/anaconda3/envs/ampligraph/lib/python3.6/site-packages/tensorflow/python/framework/op_def_library.py:263: colocate_with (from tensorflow.python.framework.ops) is deprecated and will be removed in a future version.\n",
      "Instructions for updating:\n",
      "Colocations handled automatically by placer.\n",
      "2019-06-05 11:07:06,612 - ampligraph.latent_features.models - INFO - Using all entities for generation of corruptions\n",
      "2019-06-05 11:07:06,845 - tensorflow - WARNING - From /home/mondeca/applications/anaconda3/envs/ampligraph/lib/python3.6/site-packages/tensorflow/python/ops/math_ops.py:3066: to_int32 (from tensorflow.python.ops.math_ops) is deprecated and will be removed in a future version.\n",
      "Instructions for updating:\n",
      "Use tf.cast instead.\n",
      "2019-06-05 11:12:27,074 - ampligraph.latent_features.models - INFO - Using all entities for generation of corruptions\n",
      "2019-06-05 11:18:12,110 - ampligraph.latent_features.models - INFO - Using all entities for generation of corruptions\n",
      "2019-06-05 11:40:09,373 - ampligraph.latent_features.models - INFO - Using all entities for generation of corruptions\n"
     ]
    }
   ],
   "source": [
    "# 05/06/2019 : I try other parameters to improve AUC. eta = 15\n",
    "train_save_model(amplg, test, TransE, nbatches=10, epochs=200, k=150, eta=15, early_stop=False)\n",
    "train_save_model(amplg, test, DistMult, nbatches=10, epochs=200, k=150, eta=15, early_stop=False)\n",
    "train_save_model(amplg, test, HolE, nbatches=10, epochs=200, k=150, eta=15, early_stop=False)\n",
    "train_save_model(amplg, test, ComplEx, nbatches=10, epochs=200, k=150, eta=15, early_stop=False)"
   ]
  },
  {
   "cell_type": "code",
   "execution_count": 14,
   "metadata": {},
   "outputs": [
    {
     "name": "stdout",
     "output_type": "stream",
     "text": [
      "2019-06-05 12:08:33,668 - ampligraph.latent_features.models - INFO - Using all entities for generation of corruptions\n",
      "2019-06-05 12:34:42,585 - ampligraph.latent_features.models - INFO - Using all entities for generation of corruptions\n",
      "2019-06-05 13:03:30,279 - ampligraph.latent_features.models - INFO - Using all entities for generation of corruptions\n",
      "2019-06-05 14:07:38,058 - ampligraph.latent_features.models - INFO - Using all entities for generation of corruptions\n"
     ]
    }
   ],
   "source": [
    "# 05/06/2019 : I try other parameters to improve AUC. epochs = 4000\n",
    "train_save_model(amplg, test, TransE, nbatches=10, epochs=4000, k=150, eta=1, early_stop=False)\n",
    "train_save_model(amplg, test, DistMult, nbatches=10, epochs=4000, k=150, eta=1, early_stop=False)\n",
    "train_save_model(amplg, test, HolE, nbatches=10, epochs=4000, k=150, eta=1, early_stop=False)\n",
    "train_save_model(amplg, test, ComplEx, nbatches=10, epochs=4000, k=150, eta=1, early_stop=False)"
   ]
  },
  {
   "cell_type": "code",
   "execution_count": 17,
   "metadata": {},
   "outputs": [
    {
     "data": {
      "text/plain": [
       "['embedding_dim',\n",
       " 'margin_loss',\n",
       " 'learning_rate',\n",
       " 'relation_embedding_dim',\n",
       " 'scoring_function']"
      ]
     },
     "execution_count": 17,
     "metadata": {},
     "output_type": "execute_result"
    }
   ],
   "source": [
    "###### TRANSR algorithm ######\n",
    "import pykeen\n",
    "import os\n",
    "from pykeen.kge_models import TransR\n",
    "TransR.hyper_params"
   ]
  },
  {
   "cell_type": "code",
   "execution_count": 35,
   "metadata": {},
   "outputs": [
    {
     "name": "stdout",
     "output_type": "stream",
     "text": [
      "/home/mondeca/Documents/ISWC_2019 (OLD)/AmpliGraph/results\n"
     ]
    }
   ],
   "source": [
    "# Get output directory\n",
    "output_directory = os.getcwd() + \"/results\"\n",
    "print(output_directory)"
   ]
  },
  {
   "cell_type": "code",
   "execution_count": 36,
   "metadata": {},
   "outputs": [],
   "source": [
    "config = dict(\n",
    "    training_set_path           = './explicit.nt',\n",
    "    execution_mode              = 'Training_mode',\n",
    "    random_seed                 = 0,\n",
    "    kg_embedding_model_name     = 'TransR',\n",
    "    embedding_dim               = 150,\n",
    "    relation_embedding_dim      = 150,\n",
    "    scoring_function            = 2,  # corresponds to L2\n",
    "    margin_loss                 = 0.5,\n",
    "    learning_rate               = 1e-3,\n",
    "    num_epochs                  = 200,  \n",
    "    batch_size                  = 10,\n",
    "    preferred_device            = 'cpu'\n",
    ")"
   ]
  },
  {
   "cell_type": "code",
   "execution_count": null,
   "metadata": {},
   "outputs": [
    {
     "name": "stdout",
     "output_type": "stream",
     "text": [
      "2019-06-07 16:48:09,392 - pykeen.utilities.pipeline - INFO - -------------Train KG Embeddings-------------\n"
     ]
    },
    {
     "name": "stderr",
     "output_type": "stream",
     "text": [
      "Training epoch:  81%|████████  | 162/200 [2:10:59<30:08, 47.60s/it]"
     ]
    }
   ],
   "source": [
    "# Training\n",
    "results = pykeen.run(\n",
    "    config=config,\n",
    "    output_directory=output_directory,\n",
    ")"
   ]
  },
  {
   "cell_type": "code",
   "execution_count": 28,
   "metadata": {},
   "outputs": [
    {
     "data": {
      "text/plain": [
       "odict_keys(['trained_model', 'losses', 'entity_to_embedding', 'relation_to_embedding', 'entity_to_id', 'relation_to_id', 'final_configuration'])"
      ]
     },
     "execution_count": 28,
     "metadata": {},
     "output_type": "execute_result"
    }
   ],
   "source": [
    "results.results.keys()"
   ]
  },
  {
   "cell_type": "code",
   "execution_count": 31,
   "metadata": {},
   "outputs": [
    {
     "data": {
      "image/png": "[encoded data removed]",
      "text/plain": [
       "<Figure size 432x288 with 1 Axes>"
      ]
     },
     "metadata": {
      "needs_background": "light"
     },
     "output_type": "display_data"
    }
   ],
   "source": [
    "import matplotlib.pyplot as plt\n",
    "%matplotlib inline\n",
    "\n",
    "losses = results.results['losses']\n",
    "epochs = np.arange(len(losses))\n",
    "plt.title(r'Loss Per Epoch')\n",
    "plt.xlabel('epoch')\n",
    "plt.ylabel('loss')\n",
    "plt.plot(epochs, losses)\n",
    "plt.show()"
   ]
  },
  {
   "cell_type": "code",
   "execution_count": 32,
   "metadata": {},
   "outputs": [
    {
     "data": {
      "text/plain": [
       "TransR(\n",
       "  (criterion): MarginRankingLoss()\n",
       "  (entity_embeddings): Embedding(11990, 150, max_norm=1)\n",
       "  (relation_embeddings): Embedding(5, 20, max_norm=1)\n",
       "  (projection_matrix_embs): Embedding(5, 3000)\n",
       ")"
      ]
     },
     "execution_count": 32,
     "metadata": {},
     "output_type": "execute_result"
    }
   ],
   "source": [
    "results.trained_model"
   ]
  },
  {
   "cell_type": "code",
   "execution_count": null,
   "metadata": {},
   "outputs": [],
   "source": [
    "################################ OLD #####################################"
   ]
  },
  {
   "cell_type": "code",
   "execution_count": 31,
   "metadata": {
    "scrolled": true
   },
   "outputs": [
    {
     "name": "stdout",
     "output_type": "stream",
     "text": [
      "2019-04-16 14:27:35,977 - ampligraph.latent_features.models - INFO - Using all entities for generation of corruptions\n"
     ]
    }
   ],
   "source": [
    "train_save_model(amplg, test, TransE, nbatches=10, epochs=100, k=100, eta=0, early_stop=False)"
   ]
  },
  {
   "cell_type": "code",
   "execution_count": 24,
   "metadata": {},
   "outputs": [
    {
     "name": "stdout",
     "output_type": "stream",
     "text": [
      "(23928, 3)\n",
      "------ Loss-----\n",
      "2019-04-16 12:12:40,332 - ampligraph.latent_features.loss_functions - INFO - Name:pairwise\n",
      "Name: pairwise\n",
      "2019-04-16 12:12:40,334 - ampligraph.latent_features.loss_functions - INFO - Parameters:\n",
      "Parameters:\n",
      "2019-04-16 12:12:40,335 - ampligraph.latent_features.loss_functions - INFO - \teta: \n",
      "   eta :  10\n",
      "2019-04-16 12:12:40,344 - ampligraph.latent_features.loss_functions - INFO - \tmargin: \n",
      "   margin :  0.5\n",
      "------ Regularizer-----\n",
      "2019-04-16 12:12:40,346 - ampligraph.latent_features.regularizers - INFO - ------ Regularizer-----\n",
      "Name: LP\n",
      "2019-04-16 12:12:40,347 - ampligraph.latent_features.regularizers - INFO - Name:LP\n",
      "Parameters:\n",
      "2019-04-16 12:12:40,348 - ampligraph.latent_features.regularizers - INFO - Parameters:\n",
      "2019-04-16 12:12:40,349 - ampligraph.latent_features.regularizers - INFO - \tlambda:1e-05\n",
      "\n",
      "   lambda :  1e-05\n",
      "2019-04-16 12:12:40,351 - ampligraph.latent_features.regularizers - INFO - \tp:2\n",
      "\n",
      "   p :  2\n",
      "2019-04-16 12:12:40,516 - ampligraph.latent_features.models - INFO - Using all entities for generation of corruptions\n"
     ]
    },
    {
     "name": "stderr",
     "output_type": "stream",
     "text": [
      "\n",
      "  0%|          | 0/1 [00:00<?, ?epoch/s]\u001b[A"
     ]
    },
    {
     "name": "stdout",
     "output_type": "stream",
     "text": [
      "2019-04-16 12:12:45,339 - ampligraph.latent_features.models - INFO - epoch: 1: mean loss:   0.500002\n"
     ]
    },
    {
     "name": "stderr",
     "output_type": "stream",
     "text": [
      "                                                 \n",
      " 10%|█         | 2/20 [00:31<02:22,  7.89s/epoch]\n",
      "  0%|          | 0/1 [00:02<?, ?epoch/s]\u001b[A\n",
      "100%|██████████| 1/1 [00:02<00:00,  2.59s/epoch]\u001b[A"
     ]
    },
    {
     "name": "stdout",
     "output_type": "stream",
     "text": [
      "epoch: 1: mean loss:   0.500002\n"
     ]
    }
   ],
   "source": [
    "# For evaluation, we can use a filter which would be used to filter out \n",
    "# positives statements created by the corruption procedure.\n",
    "# Here we define the filter set by concatenating all the positives\n",
    "filtre = amplg[:,:3]\n",
    "print(filtre.shape)\n",
    "\n",
    "model = ComplEx(batches_count=10, seed=0, epochs=1, k=20, eta=10,\n",
    "                    # Use adam optimizer with learning rate 1e-3\n",
    "                    optimizer='adam', optimizer_params={'lr':1e-3},\n",
    "                    # Use pairwise loss with margin 0.5\n",
    "                    loss='pairwise', loss_params={'margin':0.5},\n",
    "                    # Use L2 regularizer with regularizer weight 1e-5\n",
    "                    regularizer='LP', regularizer_params={'p':2, 'lambda':1e-5}, \n",
    "                    # Enable stdout messages (set to false if you don't want to display)\n",
    "                    verbose=True)\n",
    "    \n",
    "# Fit the model on training and validation set\n",
    "model.fit(amplg[:,:3],\n",
    "                early_stopping = True,\n",
    "                early_stopping_params = \\\n",
    "                      {\n",
    "                          'x_valid': test[:,:3],       # validation set\n",
    "                          'criteria':'hits10',         # Uses hits10 criteria for early stopping\n",
    "                          'burn_in': 100,              # early stopping kicks in after 100 epochs\n",
    "                          'check_interval':2,          # validates every 20th epoch\n",
    "                          'stop_interval':5,           # stops if 5 successive validation checks are bad.\n",
    "                          'x_filter': filtre,          # Use filter for filtering out positives \n",
    "                          'corruption_entities':'all', # corrupt using all entities\n",
    "                          'corrupt_side':'s+o'         # corrupt subject and object (but not at once)\n",
    "                      }\n",
    "         )"
   ]
  },
  {
   "cell_type": "code",
   "execution_count": 125,
   "metadata": {},
   "outputs": [
    {
     "name": "stdout",
     "output_type": "stream",
     "text": [
      "(2, 50)\n",
      "(1, 50)\n",
      "CPU times: user 1.15 ms, sys: 50 µs, total: 1.2 ms\n",
      "Wall time: 814 µs\n"
     ]
    }
   ],
   "source": [
    "%%time\n",
    "# Get embedding\n",
    "emb_o = model.get_embeddings(['<http://dice-research.org/ns/drugbank#drug-DB05225>',\n",
    "                            '<http://dice-research.org/ns/drugbank#disease-DS004124>'])\n",
    "emb_p = model.get_embeddings(['<http://dice-research.org/ontology/drugbank/hasCommonProducer>'], type=\"relation\")\n",
    "print(emb_o.shape)\n",
    "print(emb_p.shape)"
   ]
  },
  {
   "cell_type": "code",
   "execution_count": 27,
   "metadata": {},
   "outputs": [
    {
     "data": {
      "text/plain": [
       "'ComplEx'"
      ]
     },
     "execution_count": 27,
     "metadata": {},
     "output_type": "execute_result"
    }
   ],
   "source": [
    "# Save model\n",
    "model.name\n",
    "\n",
    "\n",
    "#################################################################"
   ]
  },
  {
   "cell_type": "code",
   "execution_count": 93,
   "metadata": {},
   "outputs": [],
   "source": [
    "# Convert triplets from numpy array into embedding space of model (to apply ML models)\n",
    "def triplets_to_vec(triplets_arr, model):\n",
    "    X = []\n",
    "    Y = triplets_arr[:,-1]\n",
    "    for triplet in triplets_arr:\n",
    "        s,p,o = triplet[:-1]\n",
    "        eso = model.get_embeddings([s,o], type='entity')\n",
    "        ep = model.get_embeddings([p], type='relation')\n",
    "        embedding = np.concatenate((eso,ep)).flatten()\n",
    "        X.append(embedding)\n",
    "    X = np.array(X)\n",
    "    return X, Y"
   ]
  },
  {
   "cell_type": "code",
   "execution_count": 98,
   "metadata": {},
   "outputs": [],
   "source": [
    "X_train, y_train = triplets_to_vec(train, model)\n",
    "X_test, y_test = triplets_to_vec(test, model)\n",
    "X, Y = triplets_to_vec(amplg, model)"
   ]
  },
  {
   "cell_type": "code",
   "execution_count": 124,
   "metadata": {},
   "outputs": [
    {
     "name": "stdout",
     "output_type": "stream",
     "text": [
      "(18541, 150) (18541,)\n",
      "(5982, 150) (5982,)\n",
      "(23928, 150) (23928,)\n"
     ]
    }
   ],
   "source": [
    "print(X_train.shape, y_train.shape)\n",
    "print(X_test.shape, y_test.shape)\n",
    "print(X.shape, Y.shape)"
   ]
  },
  {
   "cell_type": "code",
   "execution_count": 123,
   "metadata": {},
   "outputs": [],
   "source": [
    "# Save data for ML task\n",
    "np.save(\"./dataset_TransE\", np.array([X_train, y_test]))"
   ]
  },
  {
   "cell_type": "code",
   "execution_count": 519,
   "metadata": {},
   "outputs": [
    {
     "name": "stderr",
     "output_type": "stream",
     "text": [
      "100%|██████████| 3153/3153 [00:35<00:00, 88.23it/s] \n",
      "100%|██████████| 3153/3153 [00:35<00:00, 88.64it/s] "
     ]
    },
    {
     "name": "stdout",
     "output_type": "stream",
     "text": [
      "2019-04-12 14:52:30,308 - ampligraph.evaluation.protocol - INFO - Returning ranks of positive test triples obtained by corrupting ['s', 'o'].\n"
     ]
    },
    {
     "name": "stderr",
     "output_type": "stream",
     "text": [
      "\n"
     ]
    }
   ],
   "source": [
    "# Run the evaluation procedure on the test set (with filtering). \n",
    "# To disable filtering: filter_triples=None\n",
    "# Usually, we corrupt subject and object sides separately and compute ranks\n",
    "ranks = evaluate_performance(test_t, \n",
    "                             model=model, \n",
    "                             filter_triples=None,\n",
    "                             use_default_protocol=True, # corrupt subj and obj separately while evaluating\n",
    "                             verbose=True)"
   ]
  },
  {
   "cell_type": "code",
   "execution_count": 524,
   "metadata": {},
   "outputs": [
    {
     "name": "stdout",
     "output_type": "stream",
     "text": [
      "MRR: 0.023695, Hits@10: 0.073581\n"
     ]
    }
   ],
   "source": [
    "mrr = mrr_score(ranks)\n",
    "hits_10 = hits_at_n_score(ranks, n=10)\n",
    "print(\"MRR: %f, Hits@10: %f\" % (mrr, hits_10))"
   ]
  },
  {
   "cell_type": "code",
   "execution_count": 527,
   "metadata": {},
   "outputs": [
    {
     "name": "stdout",
     "output_type": "stream",
     "text": [
      "[-4.583109, -7.4090586, -8.624208, -9.845636, -7.168724, -5.5793676, -7.829227, -7.7569227, -8.186771, -7.3858566]\n"
     ]
    }
   ],
   "source": [
    "y_pred = model.predict(test_f[:10])\n",
    "print(y_pred)"
   ]
  },
  {
   "cell_type": "code",
   "execution_count": 347,
   "metadata": {},
   "outputs": [
    {
     "name": "stdout",
     "output_type": "stream",
     "text": [
      "[['06845599' '_member_of_domain_usage' '03754979']\n",
      " ['00789448' '_verb_group' '01062739']\n",
      " ['10217831' '_hyponym' '10682169']\n",
      " ...\n",
      " ['15137890' '_hyponym' '15138401']\n",
      " ['01762525' '_hyponym' '02216066']\n",
      " ['01838038' '_hypernym' '01503061']]\n",
      "<class 'dict'>\n"
     ]
    }
   ],
   "source": [
    "from ampligraph.datasets import load_wn18\n",
    "X = load_wn18()\n",
    "print(X['test'])\n",
    "print(type(X))"
   ]
  },
  {
   "cell_type": "code",
   "execution_count": 80,
   "metadata": {},
   "outputs": [
    {
     "data": {
      "text/plain": [
       "array([[4, 5, 6],\n",
       "       [7, 8, 9]])"
      ]
     },
     "execution_count": 80,
     "metadata": {},
     "output_type": "execute_result"
    }
   ],
   "source": [
    "a = np.array([[1,2,3], [4,5,6], [7,8,9], [9,8,3]])\n",
    "\n",
    "a[a[:,2] != 3,:]"
   ]
  }
 ],
 "metadata": {
  "kernelspec": {
   "display_name": "Python 3",
   "language": "python",
   "name": "python3"
  },
  "language_info": {
   "codemirror_mode": {
    "name": "ipython",
    "version": 3
   },
   "file_extension": ".py",
   "mimetype": "text/x-python",
   "name": "python",
   "nbconvert_exporter": "python",
   "pygments_lexer": "ipython3",
   "version": "3.6.8"
  }
 },
 "nbformat": 4,
 "nbformat_minor": 2
}
