{
 "cells": [
  {
   "cell_type": "code",
   "execution_count": 187,
   "metadata": {},
   "outputs": [],
   "source": [
    "import ampligraph\n",
    "from ampligraph.datasets import load_from_ntriples\n",
    "from ampligraph.evaluation import train_test_split_no_unseen\n",
    "from ampligraph.latent_features import ComplEx, save_model, restore_model\n",
    "\n",
    "from rdflib import Graph, URIRef\n",
    "from rdflib.namespace import RDF, OWL\n",
    "\n",
    "import numpy as np\n",
    "np.set_printoptions(threshold=100)\n",
    "\n",
    "import random\n",
    "np.random.seed(1) #0 before\n",
    "random.seed(1)"
   ]
  },
  {
   "cell_type": "code",
   "execution_count": 188,
   "metadata": {},
   "outputs": [],
   "source": [
    "# Create a new graph with the explicit triplets\n",
    "\n",
    "def create_explicit_graph(graph, explicit_owlThings=False, is_correctness=True):\n",
    "    new_g = Graph()\n",
    "    statements = set()\n",
    "    triplets = set()\n",
    "    all_statements = []\n",
    "    \n",
    "    if is_correctness:\n",
    "        true_entities = set()\n",
    "        false_entities = set()\n",
    "        truth_dico = {}\n",
    "        hasTruthValue = URIRef(\"http://swc2017.aksw.org/hasTruthValue\")\n",
    "    \n",
    "    OWLthing = URIRef(\"http://www.w3.org/2002/07/owl#Thing\")\n",
    "\n",
    "    chevr = lambda s : '<' + s + '>'\n",
    "    \n",
    "    # Iterate through statements\n",
    "    for i,s in enumerate(graph.subjects(RDF.type, RDF.Statement)):\n",
    "        statements.add(s)\n",
    "\n",
    "        # Get <s> <p> <o>\n",
    "        suj = graph.value(s, RDF.subject)\n",
    "        pred = graph.value(s, RDF.predicate)\n",
    "        obj = graph.value(s, RDF.object)\n",
    "        \n",
    "        # If the graph file have information on the correctess of statement (for the train set)\n",
    "        if is_correctness:\n",
    "            is_true = graph.value(s, hasTruthValue)\n",
    "            # Save entities in false and true statements\n",
    "            if float(is_true) == 1.0:\n",
    "                true_entities.add(suj)\n",
    "                true_entities.add(obj)\n",
    "            elif float(is_true) == 0.0:\n",
    "                false_entities.add(suj)\n",
    "                false_entities.add(obj)\n",
    "            \n",
    "            # Save the truth of statement with a dictionnary\n",
    "            if (suj, pred, obj) not in triplets:\n",
    "                truth_dico[(chevr(str(suj)), chevr(str(pred)), chevr(str(obj)))] = float(is_true)\n",
    "                #is_true_v.append(float(is_true))\n",
    "        \n",
    "        \n",
    "            \n",
    "        # Adding triplet to explicit graph and set of triplets\n",
    "        new_g.add((suj, pred, obj))\n",
    "        triplets.add((suj, pred, obj))\n",
    "        \n",
    "        # Add all statements, even if duplicate (for test set)\n",
    "        all_statements.append([chevr(str(suj)), chevr(str(pred)), chevr(str(obj)), chevr(str(s))])\n",
    "\n",
    "        # Make statements that subjects and predicates are owlthings (it is needed for rdf2vec)\n",
    "        if explicit_owlThings:\n",
    "            new_g.add((suj, RDF.type, OWLthing))\n",
    "            new_g.add((obj, RDF.type, OWLthing))\n",
    "    \n",
    "    if is_correctness:\n",
    "        return new_g, statements, triplets, true_entities, false_entities, truth_dico\n",
    "    else:\n",
    "        return new_g, triplets, all_statements"
   ]
  },
  {
   "cell_type": "code",
   "execution_count": 189,
   "metadata": {},
   "outputs": [
    {
     "data": {
      "text/plain": [
       "<Graph identifier=N3e9e3bf406c24ce28ede74c58c2cc7a2 (<class 'rdflib.graph.Graph'>)>"
      ]
     },
     "execution_count": 189,
     "metadata": {},
     "output_type": "execute_result"
    }
   ],
   "source": [
    "# Import raw training and test graph\n",
    "g_train_raw = Graph()\n",
    "g_train_raw.parse(\"SWC_2019_Train.nt\", format=\"nt\")\n",
    "g_test_raw = Graph()\n",
    "g_test_raw.parse(\"SWC_2019_Test.nt\", format=\"nt\")"
   ]
  },
  {
   "cell_type": "code",
   "execution_count": 190,
   "metadata": {},
   "outputs": [],
   "source": [
    "g_train, statements_train, triplets_train, true_entities_train, false_entities_train, truth_dict_train = create_explicit_graph(g_train_raw, explicit_owlThings=False)\n",
    "g_test, triplets_test, test_all_statements = create_explicit_graph(g_test_raw, explicit_owlThings=False, is_correctness=False)"
   ]
  },
  {
   "cell_type": "code",
   "execution_count": 191,
   "metadata": {},
   "outputs": [
    {
     "name": "stdout",
     "output_type": "stream",
     "text": [
      "8231 9976\n",
      "11990\n"
     ]
    }
   ],
   "source": [
    "# It seems that some entities are specific to correct and false statements\n",
    "print(len(true_entities_train), len(false_entities_train))\n",
    "print(len(true_entities_train.union(false_entities_train)))"
   ]
  },
  {
   "cell_type": "code",
   "execution_count": 192,
   "metadata": {},
   "outputs": [
    {
     "name": "stdout",
     "output_type": "stream",
     "text": [
      "25000\n",
      "23928\n",
      "23928\n"
     ]
    }
   ],
   "source": [
    "# Some statements seem to be equivalents\n",
    "print(len(statements_train))\n",
    "print(len(triplets_train))\n",
    "print(len(g_train))"
   ]
  },
  {
   "cell_type": "code",
   "execution_count": 193,
   "metadata": {},
   "outputs": [],
   "source": [
    "# Save rdflib graphs into nt files\n",
    "g_train.serialize(destination='trainGraphExplicit.nt', format=\"nt\")"
   ]
  },
  {
   "cell_type": "code",
   "execution_count": 194,
   "metadata": {},
   "outputs": [
    {
     "name": "stdout",
     "output_type": "stream",
     "text": [
      "(23928, 3)\n",
      "[['<http://dice-research.org/ns/drugbank#drug-DB12628>'\n",
      "  '<http://dice-research.org/ontology/drugbank/hasIndication>'\n",
      "  '<http://dice-research.org/ns/drugbank#disease-DS001685>']\n",
      " ['<http://dice-research.org/ns/drugbank#drug-DB09234>'\n",
      "  '<http://dice-research.org/ontology/drugbank/interactsWith>'\n",
      "  '<http://dice-research.org/ns/drugbank#drug-DB09269>']\n",
      " ['<http://dice-research.org/ns/drugbank#drug-DB10700>'\n",
      "  '<http://dice-research.org/ontology/drugbank/hasCommonIndication>'\n",
      "  '<http://dice-research.org/ns/drugbank#drug-DB08998>']\n",
      " ['<http://dice-research.org/ns/drugbank#drug-DB07723>'\n",
      "  '<http://dice-research.org/ontology/drugbank/hasSameState>'\n",
      "  '<http://dice-research.org/ns/drugbank#drug-DB10982>']]\n"
     ]
    }
   ],
   "source": [
    "# Load Graph with Ampligraph\n",
    "triplets_data_train = load_from_ntriples(\"/home/mondeca/Documents/FactTriplesChecker\", \"trainGraphExplicit.nt\")\n",
    "print(triplets_data_train.shape)\n",
    "print(triplets_data_train[:4,:])"
   ]
  },
  {
   "cell_type": "code",
   "execution_count": 195,
   "metadata": {},
   "outputs": [],
   "source": [
    "# Load test data\n",
    "test_data = np.array(test_all_statements)"
   ]
  },
  {
   "cell_type": "code",
   "execution_count": 196,
   "metadata": {},
   "outputs": [],
   "source": [
    "# Get truth value of each statement from dictionnary and put in in a vector\n",
    "truth_vect_train = []\n",
    "for i,x in enumerate(triplets_data_train):\n",
    "    is_true = truth_dict_train[tuple(x)]\n",
    "    truth_vect_train.append(is_true)"
   ]
  },
  {
   "cell_type": "code",
   "execution_count": 197,
   "metadata": {},
   "outputs": [
    {
     "name": "stdout",
     "output_type": "stream",
     "text": [
      "(23928,)\n",
      "[['<http://dice-research.org/ns/drugbank#drug-DB12628>'\n",
      "  '<http://dice-research.org/ontology/drugbank/hasIndication>'\n",
      "  '<http://dice-research.org/ns/drugbank#disease-DS001685>' 0.0]\n",
      " ['<http://dice-research.org/ns/drugbank#drug-DB09234>'\n",
      "  '<http://dice-research.org/ontology/drugbank/interactsWith>'\n",
      "  '<http://dice-research.org/ns/drugbank#drug-DB09269>' 1.0]\n",
      " ['<http://dice-research.org/ns/drugbank#drug-DB10700>'\n",
      "  '<http://dice-research.org/ontology/drugbank/hasCommonIndication>'\n",
      "  '<http://dice-research.org/ns/drugbank#drug-DB08998>' 0.0]\n",
      " ['<http://dice-research.org/ns/drugbank#drug-DB07723>'\n",
      "  '<http://dice-research.org/ontology/drugbank/hasSameState>'\n",
      "  '<http://dice-research.org/ns/drugbank#drug-DB10982>' 0.0]]\n"
     ]
    }
   ],
   "source": [
    "# Combine array of statements and array of truth values\n",
    "print(np.array(truth_vect_train).shape)\n",
    "train_data = np.hstack((triplets_data_train, np.reshape(np.array(truth_vect_train), (len(triplets_train),1))))\n",
    "print(train_data[:4,:])"
   ]
  },
  {
   "cell_type": "code",
   "execution_count": 199,
   "metadata": {},
   "outputs": [
    {
     "name": "stdout",
     "output_type": "stream",
     "text": [
      "(18537, 4) (5982, 4)\n"
     ]
    }
   ],
   "source": [
    "# Splitting training graph into train/valid set\n",
    "train, valid = train_test_split_no_unseen(train_data, test_size=int(0.25 * train_data.shape[0]), seed=0)\n",
    "print(train.shape, valid.shape)\n",
    "\n",
    "# Save explicit statements with their binary labels, for train and development data\n",
    "np.save(\"dev/trainDev\", train)\n",
    "np.save(\"dev/valid\", valid)\n",
    "\n",
    "# Save explicit statements for train+dev data and test data\n",
    "np.save(\"test/train\", train_data)\n",
    "np.save(\"test/test\", test_data)"
   ]
  },
  {
   "cell_type": "code",
   "execution_count": 146,
   "metadata": {},
   "outputs": [],
   "source": [
    "from ampligraph.latent_features import ComplEx, DistMult, TransE, HolE\n",
    "from ampligraph.evaluation import evaluate_performance, mrr_score, hits_at_n_score\n",
    "\n",
    "# Train an embedding model and save it\n",
    "def train_save_model(train_data, model_name, nbatches, epochs, k, eta):\n",
    "    model = model_name(batches_count=nbatches, seed=0, epochs=epochs, k=k, eta=eta,\n",
    "                    # Use adam optimizer with learning rate 1e-3\n",
    "                    optimizer='adam', optimizer_params={'lr':1e-3},\n",
    "                    # Use pairwise loss with margin 0.5\n",
    "                    loss='pairwise', loss_params={'margin':0.5},\n",
    "                    # Use L2 regularizer with regularizer weight 1e-5\n",
    "                    regularizer='LP', regularizer_params={'p':2, 'lambda':1e-5}, \n",
    "                    # Enable stdout messages (set to false if you don't want to display)\n",
    "                    verbose=False)\n",
    "        \n",
    "    #Training\n",
    "    model.fit(train_data[:,:3])\n",
    "    \n",
    "    fn = \"./ampligraphModels/\" + model_name.__name__ + \"_\" + str(k) +\"_\"+ str(epochs) +\"_\"+ str(eta)\n",
    "    save_model(model, fn)"
   ]
  },
  {
   "cell_type": "code",
   "execution_count": 147,
   "metadata": {},
   "outputs": [
    {
     "name": "stdout",
     "output_type": "stream",
     "text": [
      "2019-06-14 17:49:06,357 - ampligraph.latent_features.models - INFO - Using all entities for generation of corruptions\n",
      "2019-06-14 17:50:45,003 - ampligraph.latent_features.models - INFO - Using all entities for generation of corruptions\n",
      "2019-06-14 17:52:22,737 - ampligraph.latent_features.models - INFO - Using all entities for generation of corruptions\n",
      "2019-06-14 17:56:19,563 - ampligraph.latent_features.models - INFO - Using all entities for generation of corruptions\n"
     ]
    }
   ],
   "source": [
    "# Some good parameters : epochs = 200, k = 150, eta = 1\n",
    "train_save_model(train_data, TransE, nbatches=10, epochs=200, k=150, eta=1)\n",
    "train_save_model(train_data, DistMult, nbatches=10, epochs=200, k=150, eta=1)\n",
    "train_save_model(train_data, HolE, nbatches=10, epochs=200, k=150, eta=1)\n",
    "train_save_model(train_data, ComplEx, nbatches=10, epochs=200, k=150, eta=1)"
   ]
  },
  {
   "cell_type": "code",
   "execution_count": 148,
   "metadata": {},
   "outputs": [
    {
     "data": {
      "text/plain": [
       "['embedding_dim',\n",
       " 'margin_loss',\n",
       " 'learning_rate',\n",
       " 'relation_embedding_dim',\n",
       " 'scoring_function']"
      ]
     },
     "execution_count": 148,
     "metadata": {},
     "output_type": "execute_result"
    }
   ],
   "source": [
    "# TRANSR algorithm\n",
    "import pykeen\n",
    "import os\n",
    "from pykeen.kge_models import TransR\n",
    "TransR.hyper_params"
   ]
  },
  {
   "cell_type": "code",
   "execution_count": 149,
   "metadata": {},
   "outputs": [
    {
     "name": "stdout",
     "output_type": "stream",
     "text": [
      "/home/mondeca/Documents/FactTriplesChecker/transRmodel\n"
     ]
    }
   ],
   "source": [
    "# Get output directory\n",
    "output_directory = os.getcwd() + \"/transRmodel\"\n",
    "print(output_directory)"
   ]
  },
  {
   "cell_type": "code",
   "execution_count": 150,
   "metadata": {},
   "outputs": [],
   "source": [
    "config = dict(\n",
    "    training_set_path           = './trainGraphExplicit.nt',\n",
    "    execution_mode              = 'Training_mode',\n",
    "    random_seed                 = 0,\n",
    "    kg_embedding_model_name     = 'TransR',\n",
    "    embedding_dim               = 150,\n",
    "    relation_embedding_dim      = 150,\n",
    "    scoring_function            = 2,  # corresponds to L2\n",
    "    margin_loss                 = 0.5,\n",
    "    learning_rate               = 1e-3,\n",
    "    num_epochs                  = 200,  \n",
    "    batch_size                  = 10,\n",
    "    preferred_device            = 'cpu'\n",
    ")"
   ]
  },
  {
   "cell_type": "code",
   "execution_count": 151,
   "metadata": {},
   "outputs": [
    {
     "name": "stdout",
     "output_type": "stream",
     "text": [
      "2019-06-14 18:09:00,735 - pykeen.utilities.pipeline - INFO - -------------Train KG Embeddings-------------\n"
     ]
    },
    {
     "name": "stderr",
     "output_type": "stream",
     "text": [
      "Training epoch: 100%|██████████| 200/200 [2:24:16<00:00, 43.16s/it]\n"
     ]
    }
   ],
   "source": [
    "# Training\n",
    "results = pykeen.run(\n",
    "    config=config,\n",
    "    output_directory=output_directory,\n",
    ")"
   ]
  },
  {
   "cell_type": "code",
   "execution_count": 152,
   "metadata": {},
   "outputs": [
    {
     "data": {
      "text/plain": [
       "odict_keys(['trained_model', 'losses', 'entity_to_embedding', 'relation_to_embedding', 'entity_to_id', 'relation_to_id', 'final_configuration'])"
      ]
     },
     "execution_count": 152,
     "metadata": {},
     "output_type": "execute_result"
    }
   ],
   "source": [
    "results.results.keys()"
   ]
  },
  {
   "cell_type": "code",
   "execution_count": 153,
   "metadata": {},
   "outputs": [
    {
     "data": {
      "image/png": "[encoded data removed]",
      "text/plain": [
       "<Figure size 432x288 with 1 Axes>"
      ]
     },
     "metadata": {
      "needs_background": "light"
     },
     "output_type": "display_data"
    }
   ],
   "source": [
    "import matplotlib.pyplot as plt\n",
    "%matplotlib inline\n",
    "\n",
    "losses = results.results['losses']\n",
    "epochs = np.arange(len(losses))\n",
    "plt.title(r'Loss Per Epoch')\n",
    "plt.xlabel('epoch')\n",
    "plt.ylabel('loss')\n",
    "plt.plot(epochs, losses)\n",
    "plt.show()"
   ]
  },
  {
   "cell_type": "code",
   "execution_count": null,
   "metadata": {},
   "outputs": [],
   "source": []
  }
 ],
 "metadata": {
  "kernelspec": {
   "display_name": "Python 3",
   "language": "python",
   "name": "python3"
  },
  "language_info": {
   "codemirror_mode": {
    "name": "ipython",
    "version": 3
   },
   "file_extension": ".py",
   "mimetype": "text/x-python",
   "name": "python",
   "nbconvert_exporter": "python",
   "pygments_lexer": "ipython3",
   "version": "3.6.8"
  }
 },
 "nbformat": 4,
 "nbformat_minor": 2
}
